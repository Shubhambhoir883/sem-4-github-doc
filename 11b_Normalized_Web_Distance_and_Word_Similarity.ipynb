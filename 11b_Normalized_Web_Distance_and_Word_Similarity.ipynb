{
  "nbformat": 4,
  "nbformat_minor": 0,
  "metadata": {
    "colab": {
      "provenance": [],
      "authorship_tag": "ABX9TyOZctTWJkK3i1pIaeBANloI",
      "include_colab_link": true
    },
    "kernelspec": {
      "name": "python3",
      "display_name": "Python 3"
    },
    "language_info": {
      "name": "python"
    }
  },
  "cells": [
    {
      "cell_type": "markdown",
      "metadata": {
        "id": "view-in-github",
        "colab_type": "text"
      },
      "source": [
        "<a href=\"https://colab.research.google.com/github/examfiles/NLP/blob/main/11b_Normalized_Web_Distance_and_Word_Similarity.ipynb\" target=\"_parent\"><img src=\"https://colab.research.google.com/assets/colab-badge.svg\" alt=\"Open In Colab\"/></a>"
      ]
    },
    {
      "cell_type": "code",
      "execution_count": 1,
      "metadata": {
        "colab": {
          "base_uri": "https://localhost:8080/"
        },
        "id": "92-VBKEANntD",
        "outputId": "a25c6fa9-88e8-4309-d42f-32031be7234a"
      },
      "outputs": [
        {
          "output_type": "stream",
          "name": "stdout",
          "text": [
            "Collecting textdistance\n",
            "  Downloading textdistance-4.6.3-py3-none-any.whl.metadata (18 kB)\n",
            "Downloading textdistance-4.6.3-py3-none-any.whl (31 kB)\n",
            "Installing collected packages: textdistance\n",
            "Successfully installed textdistance-4.6.3\n",
            "Collecting sklearn\n",
            "  Downloading sklearn-0.0.post12.tar.gz (2.6 kB)\n",
            "  \u001b[1;31merror\u001b[0m: \u001b[1msubprocess-exited-with-error\u001b[0m\n",
            "  \n",
            "  \u001b[31m×\u001b[0m \u001b[32mpython setup.py egg_info\u001b[0m did not run successfully.\n",
            "  \u001b[31m│\u001b[0m exit code: \u001b[1;36m1\u001b[0m\n",
            "  \u001b[31m╰─>\u001b[0m See above for output.\n",
            "  \n",
            "  \u001b[1;35mnote\u001b[0m: This error originates from a subprocess, and is likely not a problem with pip.\n",
            "  Preparing metadata (setup.py) ... \u001b[?25l\u001b[?25herror\n",
            "\u001b[1;31merror\u001b[0m: \u001b[1mmetadata-generation-failed\u001b[0m\n",
            "\n",
            "\u001b[31m×\u001b[0m Encountered error while generating package metadata.\n",
            "\u001b[31m╰─>\u001b[0m See above for output.\n",
            "\n",
            "\u001b[1;35mnote\u001b[0m: This is an issue with the package mentioned above, not pip.\n",
            "\u001b[1;36mhint\u001b[0m: See above for details.\n",
            "['reliance', 'reliance', 'reliance', 'reliance', 'reliance', 'reliance', 'mumbai', 'mumbai', 'mumbai', 'mumbai', 'km trading', 'km trading', 'km trading', 'km trading', 'km trading']\n"
          ]
        },
        {
          "output_type": "stream",
          "name": "stderr",
          "text": [
            "/usr/local/lib/python3.10/dist-packages/sklearn/cluster/_agglomerative.py:1006: FutureWarning: Attribute `affinity` was deprecated in version 1.2 and will be removed in 1.4. Use `metric` instead\n",
            "  warnings.warn(\n"
          ]
        }
      ],
      "source": [
        "import numpy as np\n",
        "import re\n",
        "!pip install textdistance\n",
        "import textdistance\n",
        "\n",
        "import sklearn\n",
        "!pip install sklearn\n",
        "from sklearn.cluster import AgglomerativeClustering\n",
        "\n",
        "texts = [\n",
        "'Reliance supermarket', 'Reliance hypermarket', 'Reliance', 'Reliance', 'Reliance downtown', 'Relianc market',\n",
        "'Mumbai', 'Mumbai Hyper', 'Mumbai dxb', 'mumbai airport',\n",
        "'k.m trading', 'KM Trading', 'KM trade', 'K.M. Trading', 'KM.Trading'\n",
        "]\n",
        "\n",
        "def normalize(text):\n",
        "    \"\"\" Keep only lower-cased text and numbers\"\"\"\n",
        "    return re.sub('[^a-z0-9]+', ' ', text.lower())\n",
        "\n",
        "def group_texts(texts, threshold=0.4):\n",
        "    \"\"\" Replace each text with the representative of its cluster\"\"\"\n",
        "    normalized_texts = np.array([normalize(text) for text in texts])\n",
        "    distances = 1 - np.array([\n",
        "        [textdistance.jaro_winkler(one, another) for one in normalized_texts]\n",
        "        for another in normalized_texts\n",
        "    ])\n",
        "    clustering = AgglomerativeClustering(\n",
        "        distance_threshold=threshold, # this parameter needs to be tuned carefully\n",
        "        affinity=\"precomputed\", linkage=\"complete\", n_clusters=None\n",
        "    ).fit(distances)\n",
        "    centers = dict()\n",
        "    for cluster_id in set(clustering.labels_):\n",
        "        index = clustering.labels_ == cluster_id\n",
        "        centrality = distances[:, index][index].sum(axis=1)\n",
        "        # This line was not indented correctly, causing the 'centers' dictionary to not be populated.\n",
        "        centers[cluster_id] = normalized_texts[index][centrality.argmin()]\n",
        "    return [centers[i] for i in clustering.labels_]\n",
        "\n",
        "print(group_texts(texts))\n",
        "\n"
      ]
    }
  ]
}