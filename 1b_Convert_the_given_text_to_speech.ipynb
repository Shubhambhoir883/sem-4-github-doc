{
  "cells": [
    {
      "cell_type": "markdown",
      "metadata": {
        "colab_type": "text",
        "id": "view-in-github"
      },
      "source": [
        "<a href=\"https://colab.research.google.com/github/examfiles/NLP/blob/main/1b_Convert_the_given_text_to_speech.ipynb\" target=\"_parent\"><img src=\"https://colab.research.google.com/assets/colab-badge.svg\" alt=\"Open In Colab\"/></a>"
      ]
    },
    {
      "cell_type": "code",
      "execution_count": 4,
      "metadata": {
        "colab": {
          "base_uri": "https://localhost:8080/"
        },
        "id": "PG62VZ9PPaYb",
        "outputId": "bd416a60-bc98-487b-b434-9dba3d7fd1ef"
      },
      "outputs": [
        {
          "name": "stdout",
          "output_type": "stream",
          "text": [
            "Requirement already satisfied: playsound in /usr/local/lib/python3.10/dist-packages (1.3.0)\n",
            "Requirement already satisfied: gtts in /usr/local/lib/python3.10/dist-packages (2.5.3)\n",
            "Requirement already satisfied: requests<3,>=2.27 in /usr/local/lib/python3.10/dist-packages (from gtts) (2.32.3)\n",
            "Requirement already satisfied: click<8.2,>=7.1 in /usr/local/lib/python3.10/dist-packages (from gtts) (8.1.7)\n",
            "Requirement already satisfied: charset-normalizer<4,>=2 in /usr/local/lib/python3.10/dist-packages (from requests<3,>=2.27->gtts) (3.3.2)\n",
            "Requirement already satisfied: idna<4,>=2.5 in /usr/local/lib/python3.10/dist-packages (from requests<3,>=2.27->gtts) (3.7)\n",
            "Requirement already satisfied: urllib3<3,>=1.21.1 in /usr/local/lib/python3.10/dist-packages (from requests<3,>=2.27->gtts) (2.0.7)\n",
            "Requirement already satisfied: certifi>=2017.4.17 in /usr/local/lib/python3.10/dist-packages (from requests<3,>=2.27->gtts) (2024.7.4)\n",
            "Requirement already satisfied: pydub in /usr/local/lib/python3.10/dist-packages (0.25.1)\n"
          ]
        }
      ],
      "source": [
        "!pip install playsound\n",
        "!pip install gtts\n",
        "!pip install pydub\n",
        "\n",
        "from playsound import playsound\n",
        "from gtts import gTTS\n",
        "from pydub import AudioSegment\n",
        "from pydub.playback import play\n",
        "import pygame\n",
        "\n",
        "mytext = 'Hello World'\n",
        "\n",
        "language = 'en'\n",
        "\n",
        "myobj = gTTS(text=mytext, lang=language, slow=False)\n",
        "\n",
        "myobj.save(\"conversion.mp3\")\n",
        "\n",
        "# audio_file = \"conversion.mp3\"\n",
        "\n",
        "# play(AudioSegment.from_file(audio_file))\n",
        "\n",
        "\n",
        "#otional code\n",
        "\n",
        "# from gtts import gTTS\n",
        "# from IPython.display import Audio\n",
        "\n",
        "# text = \"Hello, this is a text to speech conversion example in Google Colab.\"\n",
        "\n",
        "# language = 'en'\n",
        "\n",
        "# tts = gTTS(text=text, lang=language, slow=False)\n",
        "\n",
        "# tts.save(\"output.mp3\")\n",
        "\n",
        "# Audio(\"output.mp3\", autoplay=True)\n"
      ]
    }
  ],
  "metadata": {
    "colab": {
      "authorship_tag": "ABX9TyPnp2PF4kfQgeJ66rDUNACM",
      "include_colab_link": true,
      "provenance": []
    },
    "kernelspec": {
      "display_name": "Python 3",
      "name": "python3"
    },
    "language_info": {
      "name": "python"
    }
  },
  "nbformat": 4,
  "nbformat_minor": 0
}
