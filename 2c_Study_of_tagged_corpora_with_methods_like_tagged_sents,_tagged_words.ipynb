{
  "nbformat": 4,
  "nbformat_minor": 0,
  "metadata": {
    "colab": {
      "provenance": [],
      "authorship_tag": "ABX9TyOFByhJZXt8VeTabJMsxMXG",
      "include_colab_link": true
    },
    "kernelspec": {
      "name": "python3",
      "display_name": "Python 3"
    },
    "language_info": {
      "name": "python"
    }
  },
  "cells": [
    {
      "cell_type": "markdown",
      "metadata": {
        "id": "view-in-github",
        "colab_type": "text"
      },
      "source": [
        "<a href=\"https://colab.research.google.com/github/examfiles/NLP/blob/main/2d_Study_of_tagged_corpora_with_methods_like_tagged_sents%2C_tagged_words.ipynb\" target=\"_parent\"><img src=\"https://colab.research.google.com/assets/colab-badge.svg\" alt=\"Open In Colab\"/></a>"
      ]
    },
    {
      "cell_type": "code",
      "execution_count": 1,
      "metadata": {
        "colab": {
          "base_uri": "https://localhost:8080/"
        },
        "id": "q5OyID-6trSk",
        "outputId": "d6016f1b-2f2c-4042-f3c5-fbc5c23c0761"
      },
      "outputs": [
        {
          "output_type": "stream",
          "name": "stderr",
          "text": [
            "[nltk_data] Downloading package punkt to /root/nltk_data...\n",
            "[nltk_data]   Unzipping tokenizers/punkt.zip.\n",
            "[nltk_data] Downloading package words to /root/nltk_data...\n"
          ]
        },
        {
          "output_type": "stream",
          "name": "stdout",
          "text": [
            "n\\sentence tokenization\n",
            "=============\n",
            " ['Hello!', \"I'm Batman.\"]\n",
            "\n",
            "word tokenization\n",
            "============\n",
            "\n",
            "['Hello', '!']\n",
            "['I', \"'m\", 'Batman', '.']\n"
          ]
        },
        {
          "output_type": "stream",
          "name": "stderr",
          "text": [
            "[nltk_data]   Unzipping corpora/words.zip.\n"
          ]
        }
      ],
      "source": [
        "import nltk\n",
        "from nltk import tokenize\n",
        "nltk.download('punkt')\n",
        "nltk.download('words')\n",
        "\n",
        "para = \"Hello! I'm Batman.\"\n",
        "sents = tokenize.sent_tokenize(para)\n",
        "print(\"n\\sentence tokenization\\n=============\\n\", sents)\n",
        "\n",
        "print(\"\\nword tokenization\\n============\\n\")\n",
        "\n",
        "for index in range(len(sents)):\n",
        "  word = tokenize.word_tokenize(sents[index])\n",
        "  print(word)\n",
        "\n"
      ]
    }
  ]
}
