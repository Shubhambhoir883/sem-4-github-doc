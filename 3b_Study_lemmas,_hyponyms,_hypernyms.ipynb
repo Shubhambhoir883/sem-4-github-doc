{
  "nbformat": 4,
  "nbformat_minor": 0,
  "metadata": {
    "colab": {
      "provenance": [],
      "authorship_tag": "ABX9TyORBDsnDEmePiuUgxnD77aV",
      "include_colab_link": true
    },
    "kernelspec": {
      "name": "python3",
      "display_name": "Python 3"
    },
    "language_info": {
      "name": "python"
    }
  },
  "cells": [
    {
      "cell_type": "markdown",
      "metadata": {
        "id": "view-in-github",
        "colab_type": "text"
      },
      "source": [
        "<a href=\"https://colab.research.google.com/github/examfiles/NLP/blob/main/3b_Study_lemmas%2C_hyponyms%2C_hypernyms.ipynb\" target=\"_parent\"><img src=\"https://colab.research.google.com/assets/colab-badge.svg\" alt=\"Open In Colab\"/></a>"
      ]
    },
    {
      "cell_type": "code",
      "execution_count": 1,
      "metadata": {
        "colab": {
          "base_uri": "https://localhost:8080/"
        },
        "id": "ZAsn_1fxvQ4e",
        "outputId": "0895d53b-05e0-4ea3-98d1-38049a687634"
      },
      "outputs": [
        {
          "output_type": "stream",
          "name": "stderr",
          "text": [
            "[nltk_data] Downloading package wordnet to /root/nltk_data...\n"
          ]
        },
        {
          "output_type": "stream",
          "name": "stdout",
          "text": [
            "[Synset('computer.n.01'), Synset('calculator.n.01')]\n",
            "['computer', 'computing_machine', 'computing_device', 'data_processor', 'electronic_computer', 'information_processing_system']\n",
            "Synset('computer.n.01') --> ['computer', 'computing_machine', 'computing_device', 'data_processor', 'electronic_computer', 'information_processing_system']\n",
            "Synset('calculator.n.01') --> ['calculator', 'reckoner', 'figurer', 'estimator', 'computer']\n",
            "[Lemma('computer.n.01.computer'), Lemma('computer.n.01.computing_machine'), Lemma('computer.n.01.computing_device'), Lemma('computer.n.01.data_processor'), Lemma('computer.n.01.electronic_computer'), Lemma('computer.n.01.information_processing_system')]\n",
            "Synset('computer.n.01')\n",
            "computing_device\n",
            "[Synset('analog_computer.n.01'), Synset('digital_computer.n.01'), Synset('home_computer.n.01'), Synset('node.n.08'), Synset('number_cruncher.n.02'), Synset('pari-mutuel_machine.n.01'), Synset('predictor.n.03'), Synset('server.n.03'), Synset('turing_machine.n.01'), Synset('web_site.n.01')]\n",
            "['analog_computer', 'analogue_computer', 'digital_computer', 'home_computer', 'node', 'client', 'guest', 'number_cruncher', 'pari-mutuel_machine', 'totalizer', 'totaliser', 'totalizator', 'totalisator', 'predictor', 'server', 'host', 'Turing_machine', 'web_site', 'website', 'internet_site', 'site']\n",
            "[Synset('vehicle.n.01')]\n"
          ]
        }
      ],
      "source": [
        "import nltk\n",
        "nltk.download('wordnet')\n",
        "from nltk.corpus import wordnet\n",
        "print(wordnet.synsets(\"computer\"))\n",
        "print(wordnet.synset(\"computer.n.01\").lemma_names())\n",
        "\n",
        "#all lemmas for each synset\n",
        "for e in wordnet.synsets(\"computer\"):\n",
        "  print(f'{e} --> {e.lemma_names()}')\n",
        "\n",
        "#print all lemmas for a given synset\n",
        "print(wordnet.synset('computer.n.01').lemmas())\n",
        "\n",
        "#get the synset corresponding to lemma\n",
        "print(wordnet.lemma('computer.n.01.computing_device').synset())\n",
        "\n",
        "#Get the name of the lemma\n",
        "print(wordnet.lemma('computer.n.01.computing_device').name())\n",
        "\n",
        "#Hyponyms give anstract concepts of the word that are much more specific\n",
        "#the list of hyponyms words of the computer\n",
        "syn = wordnet.synset('computer.n.01')\n",
        "print(syn.hyponyms())\n",
        "\n",
        "print([lemma.name() for synset in syn.hyponyms() for lemma in synset.lemmas()])\n",
        "\n",
        "#the semantic similarity in WordNet\n",
        "vehicle = wordnet.synset('vehicle.n.01')\n",
        "car = wordnet.synset('car.n.01')\n",
        "print(car.lowest_common_hypernyms(vehicle))\n"
      ]
    }
  ]
}