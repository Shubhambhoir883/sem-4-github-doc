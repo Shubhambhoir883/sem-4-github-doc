{
  "nbformat": 4,
  "nbformat_minor": 0,
  "metadata": {
    "colab": {
      "provenance": [],
      "authorship_tag": "ABX9TyOT5PK0T8/vSweBWid9vIm4",
      "include_colab_link": true
    },
    "kernelspec": {
      "name": "python3",
      "display_name": "Python 3"
    },
    "language_info": {
      "name": "python"
    }
  },
  "cells": [
    {
      "cell_type": "markdown",
      "metadata": {
        "id": "view-in-github",
        "colab_type": "text"
      },
      "source": [
        "<a href=\"https://colab.research.google.com/github/examfiles/NLP/blob/main/4a_Tokenization_using_Python%E2%80%99s_split()_function.ipynb\" target=\"_parent\"><img src=\"https://colab.research.google.com/assets/colab-badge.svg\" alt=\"Open In Colab\"/></a>"
      ]
    },
    {
      "cell_type": "code",
      "execution_count": 1,
      "metadata": {
        "colab": {
          "base_uri": "https://localhost:8080/"
        },
        "id": "_S3uf4oJwmrY",
        "outputId": "b8ce6179-a6f5-414e-b666-342fb5e12265"
      },
      "outputs": [
        {
          "output_type": "stream",
          "name": "stdout",
          "text": [
            " Would I rather be feared or loved? Easy\n",
            " Both\n",
            " I want people to be afraid of how much they love me\n",
            "\n"
          ]
        }
      ],
      "source": [
        "text = \"\"\" Would I rather be feared or loved? Easy. Both. I want people to be afraid of how much they love me.\"\"\"\n",
        "data = text.split('.')\n",
        "for i in data:\n",
        "  print (i)\n"
      ]
    }
  ]
}