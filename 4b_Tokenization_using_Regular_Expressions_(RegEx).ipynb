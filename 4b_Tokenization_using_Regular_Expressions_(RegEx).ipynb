{
  "nbformat": 4,
  "nbformat_minor": 0,
  "metadata": {
    "colab": {
      "provenance": [],
      "authorship_tag": "ABX9TyMWzljWnCKqM2FHYCyskJt3",
      "include_colab_link": true
    },
    "kernelspec": {
      "name": "python3",
      "display_name": "Python 3"
    },
    "language_info": {
      "name": "python"
    }
  },
  "cells": [
    {
      "cell_type": "markdown",
      "metadata": {
        "id": "view-in-github",
        "colab_type": "text"
      },
      "source": [
        "<a href=\"https://colab.research.google.com/github/examfiles/NLP/blob/main/4b_Tokenization_using_Regular_Expressions_(RegEx).ipynb\" target=\"_parent\"><img src=\"https://colab.research.google.com/assets/colab-badge.svg\" alt=\"Open In Colab\"/></a>"
      ]
    },
    {
      "cell_type": "code",
      "execution_count": 1,
      "metadata": {
        "colab": {
          "base_uri": "https://localhost:8080/"
        },
        "id": "6qI22nw5w7LA",
        "outputId": "7c111e9c-13d8-4034-fef0-c2469fcb503b"
      },
      "outputs": [
        {
          "output_type": "stream",
          "name": "stdout",
          "text": [
            "['Welcome', 'to', 'the', 'Natural', 'Language', 'Processing']\n"
          ]
        }
      ],
      "source": [
        "import nltk\n",
        "from nltk.tokenize import RegexpTokenizer\n",
        "\n",
        "tk = RegexpTokenizer('\\s+', gaps = True)\n",
        "\n",
        "str = \"Welcome to the Natural Language Processing\"\n",
        "\n",
        "tokens = tk.tokenize(str)\n",
        "\n",
        "print(tokens)\n",
        "\n"
      ]
    }
  ]
}