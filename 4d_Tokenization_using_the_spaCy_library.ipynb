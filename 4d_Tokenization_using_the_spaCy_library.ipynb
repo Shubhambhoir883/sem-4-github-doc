{
  "nbformat": 4,
  "nbformat_minor": 0,
  "metadata": {
    "colab": {
      "provenance": [],
      "authorship_tag": "ABX9TyPs/X60Xw2PHzIDjW8TrL7x",
      "include_colab_link": true
    },
    "kernelspec": {
      "name": "python3",
      "display_name": "Python 3"
    },
    "language_info": {
      "name": "python"
    }
  },
  "cells": [
    {
      "cell_type": "markdown",
      "metadata": {
        "id": "view-in-github",
        "colab_type": "text"
      },
      "source": [
        "<a href=\"https://colab.research.google.com/github/examfiles/NLP/blob/main/4d_Tokenization_using_the_spaCy_library.ipynb\" target=\"_parent\"><img src=\"https://colab.research.google.com/assets/colab-badge.svg\" alt=\"Open In Colab\"/></a>"
      ]
    },
    {
      "cell_type": "code",
      "execution_count": 2,
      "metadata": {
        "colab": {
          "base_uri": "https://localhost:8080/"
        },
        "id": "-BpOdY4Txn-w",
        "outputId": "87a37d50-aba2-4da9-a916-9a36e3585ff0"
      },
      "outputs": [
        {
          "output_type": "stream",
          "name": "stdout",
          "text": [
            "['Welcome', 'to', 'the', 'Natural', 'Language', 'Processing']\n"
          ]
        }
      ],
      "source": [
        "import spacy\n",
        "nlp = spacy.blank(\"en\")\n",
        "\n",
        "str = \"Welcome to the Natural Language Processing\"\n",
        "\n",
        "doc = nlp(str)\n",
        "\n",
        "words = [word.text for word in doc]\n",
        "print(words)\n",
        "\n"
      ]
    }
  ]
}