{
  "nbformat": 4,
  "nbformat_minor": 0,
  "metadata": {
    "colab": {
      "provenance": [],
      "authorship_tag": "ABX9TyOiS6szf+d3sGBipgHQFHMp",
      "include_colab_link": true
    },
    "kernelspec": {
      "name": "python3",
      "display_name": "Python 3"
    },
    "language_info": {
      "name": "python"
    }
  },
  "cells": [
    {
      "cell_type": "markdown",
      "metadata": {
        "id": "view-in-github",
        "colab_type": "text"
      },
      "source": [
        "<a href=\"https://colab.research.google.com/github/examfiles/NLP/blob/main/6c_Named_Entity_recognition_with_diagram_using_NLTK_corpus_%E2%80%93_Treebank.ipynb\" target=\"_parent\"><img src=\"https://colab.research.google.com/assets/colab-badge.svg\" alt=\"Open In Colab\"/></a>"
      ]
    },
    {
      "cell_type": "code",
      "source": [
        "import nltk\n",
        "from nltk.corpus import treebank_chunk\n",
        "\n",
        "# Ensure the required corpus is downloaded\n",
        "nltk.download('treebank')\n",
        "\n",
        "# Get the first chunked sentence\n",
        "chunked_sentence = treebank_chunk.chunked_sents()[0]\n",
        "\n",
        "# Print the tree structure in a text format\n",
        "print(chunked_sentence)\n",
        "\n",
        "# Pretty-print the tree structure\n",
        "from nltk.tree import Tree\n",
        "Tree.pprint(chunked_sentence)\n"
      ],
      "metadata": {
        "colab": {
          "base_uri": "https://localhost:8080/"
        },
        "id": "-EFE0KE9EIzp",
        "outputId": "9cf945cf-c574-461d-c584-3d4dcfde6aaa"
      },
      "execution_count": 1,
      "outputs": [
        {
          "output_type": "stream",
          "name": "stdout",
          "text": [
            "(S\n",
            "  (NP Pierre/NNP Vinken/NNP)\n",
            "  ,/,\n",
            "  (NP 61/CD years/NNS)\n",
            "  old/JJ\n",
            "  ,/,\n",
            "  will/MD\n",
            "  join/VB\n",
            "  (NP the/DT board/NN)\n",
            "  as/IN\n",
            "  (NP a/DT nonexecutive/JJ director/NN Nov./NNP 29/CD)\n",
            "  ./.)\n",
            "(S\n",
            "  (NP Pierre/NNP Vinken/NNP)\n",
            "  ,/,\n",
            "  (NP 61/CD years/NNS)\n",
            "  old/JJ\n",
            "  ,/,\n",
            "  will/MD\n",
            "  join/VB\n",
            "  (NP the/DT board/NN)\n",
            "  as/IN\n",
            "  (NP a/DT nonexecutive/JJ director/NN Nov./NNP 29/CD)\n",
            "  ./.)\n"
          ]
        },
        {
          "output_type": "stream",
          "name": "stderr",
          "text": [
            "[nltk_data] Downloading package treebank to /root/nltk_data...\n",
            "[nltk_data]   Package treebank is already up-to-date!\n"
          ]
        }
      ]
    }
  ]
}